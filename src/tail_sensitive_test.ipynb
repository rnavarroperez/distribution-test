{
 "cells": [
  {
   "cell_type": "code",
   "execution_count": null,
   "metadata": {},
   "outputs": [],
   "source": [
    "import numpy as np\n",
    "import matplotlib.pyplot as plt\n",
    "import scipy.stats as stats\n",
    "import scipy.special as special\n",
    "import time\n",
    "import matplotlib.pyplot as plt\n",
    "\n",
    "params = {'font.size': 15,\n",
    "          'axes.linewidth':2}\n",
    "plt.rcParams.update(params)"
   ]
  },
  {
   "cell_type": "markdown",
   "metadata": {},
   "source": [
    "# Implementing the Tail Sensitive test in python"
   ]
  },
  {
   "cell_type": "markdown",
   "metadata": {},
   "source": [
    "## Defining function to calculate the test statistic T\n",
    "First to test against the standard normal distribution"
   ]
  },
  {
   "cell_type": "code",
   "execution_count": null,
   "metadata": {},
   "outputs": [],
   "source": [
    "# function make_ts_c\n",
    "# Calculates the distriubtion of the Tail Sensitive test statistic\n",
    "# Input:  m: Number of samples from the statistic distribution\n",
    "#         n: Size of the sample that will that will be tested\n",
    "# Output: c: Sorted array containing an m size sample of the Tail Sensitive\n",
    "#            test statistic T distribution.\n",
    "def make_ts_c(m,n):\n",
    "    uniforms =  np.sort(stats.uniform.rvs(size=(m,n)))\n",
    "    indices = np.arange(n)+1\n",
    "    b = special.betainc(indices,n+1-indices,uniforms)\n",
    "    ci = np.minimum(b,1-b)\n",
    "    c = np.sort(2*np.amin(ci,axis=1))\n",
    "    return c"
   ]
  },
  {
   "cell_type": "code",
   "execution_count": null,
   "metadata": {},
   "outputs": [],
   "source": [
    "# function make_ks_c\n",
    "# Calculates the distriubtion of the Kolgomorov Smirnov test statistic\n",
    "# Input:  m: Number of samples from the statistic distribution\n",
    "#         n: Size of the sample that will that will be tested\n",
    "# Output: c: Sorted array containing an m size sample of the Kolmogorov-Smirnov\n",
    "#            test statistic T distribution.\n",
    "def make_ks_c(m,n):\n",
    "    uniforms =  np.sort(stats.uniform.rvs(size=(m,n)))\n",
    "    indices = np.arange(n)+1\n",
    "    t_quantiles = indices/(n+1)\n",
    "    t_ks = np.absolute(t_quantiles-uniforms)\n",
    "    c = np.sort(np.amax(t_ks,axis=1))\n",
    "    return c"
   ]
  },
  {
   "cell_type": "markdown",
   "metadata": {},
   "source": [
    "## Defining function to create a qq plot and perform the tests"
   ]
  },
  {
   "cell_type": "code",
   "execution_count": null,
   "metadata": {},
   "outputs": [],
   "source": [
    "# function qq_plot\n",
    "# Creates a quantile quantile plot of a given sample comparing to a certain distribution and performs \n",
    "# the Kolmogorov-Smirnov and Tail Sensitive tests\n",
    "# Input:  x - numpy array containig a sample from a certain distribution.\n",
    "#         alpha - real number. Confidence level of the hypothesis test\n",
    "#         m - integer. Number of simulations to calculate the p-value \n",
    "#                      (The larger m the more accurate the p-value but also a larger computation time)\n",
    "#         dist - scipy.stats distribution. Distribution to which compare the given sample\n",
    "#         rotated - Logical. If false the result will be a regular qq_plot \n",
    "#                   mapping theoretical and empirical quantiles. If True\n",
    "#                   the plot will be rotated 45 degrees clockwise\n",
    "#                   rotated = True is recommended for large sample size, this makes the discrepancies between\n",
    "#                   theoretical and observed quantiles easier to see.\n",
    "#         TS - Logical. If true will perform the Tail-sensitive test, Add the corresponding \n",
    "#              confidence bands to the qq plot and print the p-value, test statistic and\n",
    "#              critical value\n",
    "#         KS - Logical. If true will perform the Kolgomorov-Smirnov test, Add the corresponding \n",
    "#              confidence bands to the qq plot and print the p-value, test statistic and\n",
    "#              critical value\n",
    "#         smaple_label - string. Label for the legend representing the sample\n",
    "#         filename - string. Name for the file where the figure is saved (format is pdf)\n",
    "def qq_plot(x, alpha = 0.05, m = 5000, dist = stats.norm, rotated = True, TS = True, KS = True,\n",
    "            sample_label = \"Sample\", filename='qqplot.pdf'):\n",
    "    n = len(x)\n",
    "    indices = np.arange(n) + 1\n",
    "    u_quantiles = indices/(n+1)\n",
    "    n_quantiles = dist.ppf(u_quantiles)\n",
    "    sortedx = np.sort(x)\n",
    "    uniforms = dist.cdf(sortedx)\n",
    "\n",
    "    if TS:\n",
    "        c = make_ts_c(m,n)\n",
    "        gamma = c[int(alpha*m)]\n",
    "        b = special.betainc(indices,n+1-indices,uniforms)\n",
    "        lower = special.betaincinv(indices,n+1-indices,0.5*gamma)\n",
    "        upper = special.betaincinv(indices,n+1-indices,1-0.5*gamma)\n",
    "        ci = np.minimum(b,1-b)\n",
    "        t = 2*ci.min()\n",
    "        p_value = np.searchsorted(c,t)/m\n",
    "        n_lower = dist.ppf(lower)\n",
    "        n_upper = dist.ppf(upper)\n",
    "        \n",
    "    if KS:\n",
    "        c_ks = make_ks_c(m,n)\n",
    "        gamma_ks = c_ks[int((1-alpha)*m)]\n",
    "        t_ks = np.absolute(u_quantiles-uniforms).max()\n",
    "        lower_ks = u_quantiles - gamma_ks\n",
    "        upper_ks = u_quantiles + gamma_ks\n",
    "        n_lower_ks = dist.ppf(lower_ks)\n",
    "        n_upper_ks = dist.ppf(upper_ks)\n",
    "        p_value_ks = 1-np.searchsorted(c_ks,t_ks)/m\n",
    "        \n",
    "    fig, ax = plt.subplots()\n",
    "    ir = 0\n",
    "    if rotated:\n",
    "        ir = 1\n",
    "    ax.plot(n_quantiles,sortedx-n_quantiles*ir,'o',label=sample_label)\n",
    "    ax.set_xlabel(r'$Q_{\\rm theo}$')\n",
    "    \n",
    "    if rotated:\n",
    "        ax.axhline(y=0, color='k')\n",
    "        ax.set_ylabel(r'$Q_{\\rm exp} - Q_{\\rm theo}$')\n",
    "    else:\n",
    "        x0,x1 = ax.get_xlim()\n",
    "        y0,y1 = ax.get_ylim()\n",
    "        x0 = min(x0,y0)\n",
    "        x1 = max(x1,y1)\n",
    "        ax.set_xlim(x0,x1)\n",
    "        ax.set_ylim(x0,x1)\n",
    "        ax.set_aspect('equal')\n",
    "        diagonal = np.linspace(x0,x1,100)\n",
    "        ax.plot(diagonal,diagonal,color='k')\n",
    "        ax.set_ylabel(r'$Q_{\\rm exp}$')\n",
    "    \n",
    "    if TS:\n",
    "        ax.plot(n_quantiles,n_lower-n_quantiles*ir,color='C1',label=\"TS test\")\n",
    "        ax.plot(n_quantiles,n_upper-n_quantiles*ir,color='C1')\n",
    "        \n",
    "    if KS:\n",
    "        ax.plot(n_quantiles,n_lower_ks-n_quantiles*ir,color='C2',label=\"KS test\")\n",
    "        ax.plot(n_quantiles,n_upper_ks-n_quantiles*ir,color='C2')\n",
    "    \n",
    "\n",
    "    \n",
    "    ax.legend()\n",
    "    \n",
    "    plt.savefig(filename,format='pdf',bbox_inches='tight',transparent=True)\n",
    "    \n",
    "    plt.show()\n",
    "    if TS:\n",
    "        print(\"Tail Sessitive test. alpha = \", alpha)\n",
    "        print(\"p-value        = \", p_value)\n",
    "        print(\"Test statistic = \", t)\n",
    "        print(\"Critical value = \", gamma)\n",
    "    if KS:\n",
    "        if TS:\n",
    "            print()\n",
    "        print(\"Kolgomorov Smirnov test. alpha = \", alpha)\n",
    "        print(\"p-value        = \", p_value_ks)\n",
    "        print(\"Test statistic = \", t_ks)\n",
    "        print(\"Critical value = \", gamma_ks)\n"
   ]
  },
  {
   "cell_type": "markdown",
   "metadata": {},
   "source": [
    "### Example. Testing a sample against the normal distribution"
   ]
  },
  {
   "cell_type": "code",
   "execution_count": null,
   "metadata": {},
   "outputs": [],
   "source": [
    "# Reading sample\n",
    "sample = np.loadtxt('normal_sample_example.dat', usecols=[0])\n",
    "\n",
    "# Making a histogram\n",
    "y = np.linspace(-4,4,100)\n",
    "n, bins, patches = plt.hist(sample,density=True)\n",
    "l = plt.plot(y, stats.norm.pdf(y))"
   ]
  },
  {
   "cell_type": "markdown",
   "metadata": {},
   "source": [
    "The histogram shows a \"bell shape\" that mostly agrees with the normal distribution. But a closer look with a qq-plot and a couple of normality tests can show a different picture"
   ]
  },
  {
   "cell_type": "code",
   "execution_count": null,
   "metadata": {},
   "outputs": [],
   "source": [
    "qq_plot(sample, sample_label='Residuals')"
   ]
  },
  {
   "cell_type": "markdown",
   "metadata": {},
   "source": [
    "#### Analysis of example\n",
    "In this particular example the Kolmogorov Smirnov test does not find any statistically significant deviations between the sample and the normal distribution. (p-value > alpha)\n",
    "\n",
    "In contrast, the Tail-Sensitive test does see a statistically significant deviation between the sample and a normal distribution."
   ]
  },
  {
   "cell_type": "markdown",
   "metadata": {},
   "source": [
    "### Example 2. Testing against a $\\chi^2$ distribution\n",
    "\n",
    "In this particular example the $\\chi^2$ has 49 degrees of freedom"
   ]
  },
  {
   "cell_type": "code",
   "execution_count": null,
   "metadata": {
    "scrolled": false
   },
   "outputs": [],
   "source": [
    "sample_2 = np.loadtxt('chi2_sample_example.dat')\n",
    "y = np.linspace(20,130, 100)\n",
    "df = 49\n",
    "n, bins, patches = plt.hist(sample_2,density=True)\n",
    "l = plt.plot(y, stats.chi2.pdf(y,df))\n",
    "print('Mean = ',np.mean(sample_2))\n",
    "print('Var  = ',np.var(sample_2))"
   ]
  },
  {
   "cell_type": "code",
   "execution_count": null,
   "metadata": {},
   "outputs": [],
   "source": [
    "qq_plot(sample_2 ,dist=stats.chi2(df), sample_label=r'$\\chi^2$ sample')"
   ]
  },
  {
   "cell_type": "markdown",
   "metadata": {},
   "source": [
    "Notice how the shape of the KS and TS limits has changed now that the sample is being tested against a different distribution. \n",
    "\n",
    "Here both the Kolmogorov-Smirnov and Tail Sensitive test reject the hypothesis that the sample comes from a $\\chi^2$ distribution with 49 degrees of freedom"
   ]
  }
 ],
 "metadata": {
  "kernelspec": {
   "display_name": "Python 3",
   "language": "python",
   "name": "python3"
  },
  "language_info": {
   "codemirror_mode": {
    "name": "ipython",
    "version": 3
   },
   "file_extension": ".py",
   "mimetype": "text/x-python",
   "name": "python",
   "nbconvert_exporter": "python",
   "pygments_lexer": "ipython3",
   "version": "3.7.3"
  }
 },
 "nbformat": 4,
 "nbformat_minor": 2
}
